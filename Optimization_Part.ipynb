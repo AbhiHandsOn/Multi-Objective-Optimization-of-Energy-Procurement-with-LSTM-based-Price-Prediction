{
  "nbformat": 4,
  "nbformat_minor": 0,
  "metadata": {
    "colab": {
      "provenance": []
    },
    "kernelspec": {
      "name": "python3",
      "display_name": "Python 3"
    },
    "language_info": {
      "name": "python"
    }
  },
  "cells": [
    {
      "cell_type": "code",
      "source": [
        "import numpy as np\n",
        "from scipy.optimize import linprog\n",
        "\n",
        "# Function to solve for different trade-offs (Pareto optimization)\n",
        "def pareto_optimization(trade_off_factor):\n",
        "    # Objective functions:\n",
        "    # Minimize: trade_off_factor * cost + (1 - trade_off_factor) * carbon emissions\n",
        "    cost = [57.62, 25.55]  # Coefficients for Q_Grid and Q_Exchange in cost function\n",
        "    carbon_emissions = [0.95 * 0.85 , 0.95 * 0.95 ]  # Coefficients for Q_Grid and Q_Exchange in carbon emissions\n",
        "\n",
        "    # Combine the objectives into one using the trade-off factor\n",
        "    c = [\n",
        "        trade_off_factor * cost[0] + (1 - trade_off_factor) * carbon_emissions[0],\n",
        "        trade_off_factor * cost[1] + (1 - trade_off_factor) * carbon_emissions[1]\n",
        "    ]\n",
        "\n",
        "    # Constraints:\n",
        "    # Equality constraint: Q_Grid + Q_Exchange + 150 = 1200\n",
        "    A_eq = [[1, 1]]\n",
        "    b_eq = [1200 - 150]\n",
        "\n",
        "    # Inequality constraint: 0.15 * Q_Grid + 0.05 * Q_Exchange >= (0.2 * 1200) + 150\n",
        "    A_ub = [[-0.15, -0.05]]  # Less than or equal form, so reverse signs\n",
        "    b_ub = [-((0.2 * 1200) - 150)]\n",
        "\n",
        "    # Variable bounds: 0 <= Q_Grid, Q_Exchange <= 1200 - 150\n",
        "    bounds = [(0, 1200 - 150), (0, 1200 - 150)]\n",
        "\n",
        "    # Solve the linear programming problem\n",
        "    result = linprog(c, A_eq=A_eq, b_eq=b_eq, A_ub=A_ub, b_ub=b_ub, bounds=bounds, method='highs')\n",
        "\n",
        "    # Return the results\n",
        "    if result.success:\n",
        "        Q_Grid = result.x[0]\n",
        "        Q_Exchange = result.x[1]\n",
        "        total_cost = cost[0] * Q_Grid + cost[1] * Q_Exchange\n",
        "        total_emissions = carbon_emissions[0] * Q_Grid + carbon_emissions[1] * Q_Exchange\n",
        "        return Q_Grid, Q_Exchange, total_cost, total_emissions\n",
        "    else:\n",
        "        return None, None, None, None\n",
        "\n",
        "# Generate Pareto solutions by varying the trade-off factor\n",
        "pareto_solutions = []\n",
        "trade_off_factors = np.linspace(0, 1, 11)  # Vary trade-off factor from 0 to 1 in steps of 0.1\n",
        "\n",
        "for factor in trade_off_factors:\n",
        "    Q_Grid, Q_Exchange, total_cost, total_emissions = pareto_optimization(factor)\n",
        "    pareto_solutions.append({\n",
        "        'trade_off_factor': factor,\n",
        "        'Q_Grid': Q_Grid,\n",
        "        'Q_Exchange': Q_Exchange,\n",
        "        'Total_Cost': total_cost,\n",
        "        'Total_Emissions': total_emissions\n",
        "    })\n",
        "\n",
        "# Display Pareto solutions\n",
        "for solution in pareto_solutions:\n",
        "    print(f\"Trade-off factor: {solution['trade_off_factor']:.2f}, Q_Grid: {solution['Q_Grid']:.2f}, \"\n",
        "          f\"Q_Exchange: {solution['Q_Exchange']:.2f}, Total Cost: {solution['Total_Cost']:.2f}, \"\n",
        "          f\"Total Emissions: {solution['Total_Emissions']:.2f}\")"
      ],
      "metadata": {
        "colab": {
          "base_uri": "https://localhost:8080/"
        },
        "id": "kwdKLCYEt5pE",
        "outputId": "0a910e61-658a-4d23-c5be-54dacec79f5f"
      },
      "execution_count": null,
      "outputs": [
        {
          "output_type": "stream",
          "name": "stdout",
          "text": [
            "Trade-off factor: 0.00, Q_Grid: 1050.00, Q_Exchange: 0.00, Total Cost: 60501.00, Total Emissions: 847.88\n",
            "Trade-off factor: 0.10, Q_Grid: 375.00, Q_Exchange: 675.00, Total Cost: 38853.75, Total Emissions: 912.00\n",
            "Trade-off factor: 0.20, Q_Grid: 375.00, Q_Exchange: 675.00, Total Cost: 38853.75, Total Emissions: 912.00\n",
            "Trade-off factor: 0.30, Q_Grid: 375.00, Q_Exchange: 675.00, Total Cost: 38853.75, Total Emissions: 912.00\n",
            "Trade-off factor: 0.40, Q_Grid: 375.00, Q_Exchange: 675.00, Total Cost: 38853.75, Total Emissions: 912.00\n",
            "Trade-off factor: 0.50, Q_Grid: 375.00, Q_Exchange: 675.00, Total Cost: 38853.75, Total Emissions: 912.00\n",
            "Trade-off factor: 0.60, Q_Grid: 375.00, Q_Exchange: 675.00, Total Cost: 38853.75, Total Emissions: 912.00\n",
            "Trade-off factor: 0.70, Q_Grid: 375.00, Q_Exchange: 675.00, Total Cost: 38853.75, Total Emissions: 912.00\n",
            "Trade-off factor: 0.80, Q_Grid: 375.00, Q_Exchange: 675.00, Total Cost: 38853.75, Total Emissions: 912.00\n",
            "Trade-off factor: 0.90, Q_Grid: 375.00, Q_Exchange: 675.00, Total Cost: 38853.75, Total Emissions: 912.00\n",
            "Trade-off factor: 1.00, Q_Grid: 375.00, Q_Exchange: 675.00, Total Cost: 38853.75, Total Emissions: 912.00\n"
          ]
        }
      ]
    },
    {
      "cell_type": "code",
      "source": [],
      "metadata": {
        "id": "Akc6MwEO8w8O"
      },
      "execution_count": null,
      "outputs": []
    }
  ]
}